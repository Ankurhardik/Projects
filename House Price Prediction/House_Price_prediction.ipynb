{
  "cells": [
    {
      "cell_type": "code",
      "execution_count": 1,
      "metadata": {
        "id": "t5dY8xP_A5Lo"
      },
      "outputs": [],
      "source": [
        "import numpy as np\n",
        "import pandas as pd\n",
        "import matplotlib.pyplot as plt\n",
        "import seaborn as sns\n",
        "from sklearn.model_selection import train_test_split\n",
        "from sklearn.model_selection import cross_val_score\n",
        "from sklearn.preprocessing import StandardScaler\n",
        "from sklearn.preprocessing import OrdinalEncoder\n",
        "from sklearn.preprocessing import LabelEncoder\n",
        "from sklearn.metrics import mean_absolute_error, r2_score,mean_squared_error,accuracy_score\n",
        "pd.pandas.set_option('display.max_columns',None)"
      ]
    },
    {
      "cell_type": "code",
      "execution_count": 2,
      "metadata": {
        "id": "dO49MSLmBD77"
      },
      "outputs": [],
      "source": [
        "dt=pd.read_csv('india_housing_prices.csv')"
      ]
    },
    {
      "cell_type": "code",
      "execution_count": 3,
      "metadata": {
        "colab": {
          "base_uri": "https://localhost:8080/",
          "height": 504
        },
        "id": "czp8ABmjBR1A",
        "outputId": "c921dbe1-b743-4d11-a893-daeeafbfef4a"
      },
      "outputs": [
        {
          "data": {
            "application/vnd.google.colaboratory.intrinsic+json": {
              "type": "dataframe",
              "variable_name": "dt"
            },
            "text/html": [
              "\n",
              "  <div id=\"df-e7f6b136-cbbe-454e-a415-6cfdd4a66904\" class=\"colab-df-container\">\n",
              "    <div>\n",
              "<style scoped>\n",
              "    .dataframe tbody tr th:only-of-type {\n",
              "        vertical-align: middle;\n",
              "    }\n",
              "\n",
              "    .dataframe tbody tr th {\n",
              "        vertical-align: top;\n",
              "    }\n",
              "\n",
              "    .dataframe thead th {\n",
              "        text-align: right;\n",
              "    }\n",
              "</style>\n",
              "<table border=\"1\" class=\"dataframe\">\n",
              "  <thead>\n",
              "    <tr style=\"text-align: right;\">\n",
              "      <th></th>\n",
              "      <th>ID</th>\n",
              "      <th>State</th>\n",
              "      <th>City</th>\n",
              "      <th>Locality</th>\n",
              "      <th>Property_Type</th>\n",
              "      <th>BHK</th>\n",
              "      <th>Size_in_SqFt</th>\n",
              "      <th>Price_in_Lakhs</th>\n",
              "      <th>Price_per_SqFt</th>\n",
              "      <th>Year_Built</th>\n",
              "      <th>Furnished_Status</th>\n",
              "      <th>Floor_No</th>\n",
              "      <th>Total_Floors</th>\n",
              "      <th>Age_of_Property</th>\n",
              "      <th>Nearby_Schools</th>\n",
              "      <th>Nearby_Hospitals</th>\n",
              "      <th>Public_Transport_Accessibility</th>\n",
              "      <th>Parking_Space</th>\n",
              "      <th>Security</th>\n",
              "      <th>Amenities</th>\n",
              "      <th>Facing</th>\n",
              "      <th>Owner_Type</th>\n",
              "      <th>Availability_Status</th>\n",
              "    </tr>\n",
              "  </thead>\n",
              "  <tbody>\n",
              "    <tr>\n",
              "      <th>0</th>\n",
              "      <td>1</td>\n",
              "      <td>Tamil Nadu</td>\n",
              "      <td>Chennai</td>\n",
              "      <td>Locality_84</td>\n",
              "      <td>Apartment</td>\n",
              "      <td>1</td>\n",
              "      <td>4740</td>\n",
              "      <td>489.76</td>\n",
              "      <td>0.10</td>\n",
              "      <td>1990</td>\n",
              "      <td>Furnished</td>\n",
              "      <td>22</td>\n",
              "      <td>1</td>\n",
              "      <td>35</td>\n",
              "      <td>10</td>\n",
              "      <td>3</td>\n",
              "      <td>High</td>\n",
              "      <td>No</td>\n",
              "      <td>No</td>\n",
              "      <td>Playground, Gym, Garden, Pool, Clubhouse</td>\n",
              "      <td>West</td>\n",
              "      <td>Owner</td>\n",
              "      <td>Ready_to_Move</td>\n",
              "    </tr>\n",
              "    <tr>\n",
              "      <th>1</th>\n",
              "      <td>2</td>\n",
              "      <td>Maharashtra</td>\n",
              "      <td>Pune</td>\n",
              "      <td>Locality_490</td>\n",
              "      <td>Independent House</td>\n",
              "      <td>3</td>\n",
              "      <td>2364</td>\n",
              "      <td>195.52</td>\n",
              "      <td>0.08</td>\n",
              "      <td>2008</td>\n",
              "      <td>Unfurnished</td>\n",
              "      <td>21</td>\n",
              "      <td>20</td>\n",
              "      <td>17</td>\n",
              "      <td>8</td>\n",
              "      <td>1</td>\n",
              "      <td>Low</td>\n",
              "      <td>No</td>\n",
              "      <td>Yes</td>\n",
              "      <td>Playground, Clubhouse, Pool, Gym, Garden</td>\n",
              "      <td>North</td>\n",
              "      <td>Builder</td>\n",
              "      <td>Under_Construction</td>\n",
              "    </tr>\n",
              "    <tr>\n",
              "      <th>2</th>\n",
              "      <td>3</td>\n",
              "      <td>Punjab</td>\n",
              "      <td>Ludhiana</td>\n",
              "      <td>Locality_167</td>\n",
              "      <td>Apartment</td>\n",
              "      <td>2</td>\n",
              "      <td>3642</td>\n",
              "      <td>183.79</td>\n",
              "      <td>0.05</td>\n",
              "      <td>1997</td>\n",
              "      <td>Semi-furnished</td>\n",
              "      <td>19</td>\n",
              "      <td>27</td>\n",
              "      <td>28</td>\n",
              "      <td>9</td>\n",
              "      <td>8</td>\n",
              "      <td>Low</td>\n",
              "      <td>Yes</td>\n",
              "      <td>No</td>\n",
              "      <td>Clubhouse, Pool, Playground, Gym</td>\n",
              "      <td>South</td>\n",
              "      <td>Broker</td>\n",
              "      <td>Ready_to_Move</td>\n",
              "    </tr>\n",
              "    <tr>\n",
              "      <th>3</th>\n",
              "      <td>4</td>\n",
              "      <td>Rajasthan</td>\n",
              "      <td>Jodhpur</td>\n",
              "      <td>Locality_393</td>\n",
              "      <td>Independent House</td>\n",
              "      <td>2</td>\n",
              "      <td>2741</td>\n",
              "      <td>300.29</td>\n",
              "      <td>0.11</td>\n",
              "      <td>1991</td>\n",
              "      <td>Furnished</td>\n",
              "      <td>21</td>\n",
              "      <td>26</td>\n",
              "      <td>34</td>\n",
              "      <td>5</td>\n",
              "      <td>7</td>\n",
              "      <td>High</td>\n",
              "      <td>Yes</td>\n",
              "      <td>Yes</td>\n",
              "      <td>Playground, Clubhouse, Gym, Pool, Garden</td>\n",
              "      <td>North</td>\n",
              "      <td>Builder</td>\n",
              "      <td>Ready_to_Move</td>\n",
              "    </tr>\n",
              "    <tr>\n",
              "      <th>4</th>\n",
              "      <td>5</td>\n",
              "      <td>Rajasthan</td>\n",
              "      <td>Jaipur</td>\n",
              "      <td>Locality_466</td>\n",
              "      <td>Villa</td>\n",
              "      <td>4</td>\n",
              "      <td>4823</td>\n",
              "      <td>182.90</td>\n",
              "      <td>0.04</td>\n",
              "      <td>2002</td>\n",
              "      <td>Semi-furnished</td>\n",
              "      <td>3</td>\n",
              "      <td>2</td>\n",
              "      <td>23</td>\n",
              "      <td>4</td>\n",
              "      <td>9</td>\n",
              "      <td>Low</td>\n",
              "      <td>No</td>\n",
              "      <td>Yes</td>\n",
              "      <td>Playground, Garden, Gym, Pool, Clubhouse</td>\n",
              "      <td>East</td>\n",
              "      <td>Builder</td>\n",
              "      <td>Ready_to_Move</td>\n",
              "    </tr>\n",
              "  </tbody>\n",
              "</table>\n",
              "</div>\n",
              "    <div class=\"colab-df-buttons\">\n",
              "\n",
              "  <div class=\"colab-df-container\">\n",
              "    <button class=\"colab-df-convert\" onclick=\"convertToInteractive('df-e7f6b136-cbbe-454e-a415-6cfdd4a66904')\"\n",
              "            title=\"Convert this dataframe to an interactive table.\"\n",
              "            style=\"display:none;\">\n",
              "\n",
              "  <svg xmlns=\"http://www.w3.org/2000/svg\" height=\"24px\" viewBox=\"0 -960 960 960\">\n",
              "    <path d=\"M120-120v-720h720v720H120Zm60-500h600v-160H180v160Zm220 220h160v-160H400v160Zm0 220h160v-160H400v160ZM180-400h160v-160H180v160Zm440 0h160v-160H620v160ZM180-180h160v-160H180v160Zm440 0h160v-160H620v160Z\"/>\n",
              "  </svg>\n",
              "    </button>\n",
              "\n",
              "  <style>\n",
              "    .colab-df-container {\n",
              "      display:flex;\n",
              "      gap: 12px;\n",
              "    }\n",
              "\n",
              "    .colab-df-convert {\n",
              "      background-color: #E8F0FE;\n",
              "      border: none;\n",
              "      border-radius: 50%;\n",
              "      cursor: pointer;\n",
              "      display: none;\n",
              "      fill: #1967D2;\n",
              "      height: 32px;\n",
              "      padding: 0 0 0 0;\n",
              "      width: 32px;\n",
              "    }\n",
              "\n",
              "    .colab-df-convert:hover {\n",
              "      background-color: #E2EBFA;\n",
              "      box-shadow: 0px 1px 2px rgba(60, 64, 67, 0.3), 0px 1px 3px 1px rgba(60, 64, 67, 0.15);\n",
              "      fill: #174EA6;\n",
              "    }\n",
              "\n",
              "    .colab-df-buttons div {\n",
              "      margin-bottom: 4px;\n",
              "    }\n",
              "\n",
              "    [theme=dark] .colab-df-convert {\n",
              "      background-color: #3B4455;\n",
              "      fill: #D2E3FC;\n",
              "    }\n",
              "\n",
              "    [theme=dark] .colab-df-convert:hover {\n",
              "      background-color: #434B5C;\n",
              "      box-shadow: 0px 1px 3px 1px rgba(0, 0, 0, 0.15);\n",
              "      filter: drop-shadow(0px 1px 2px rgba(0, 0, 0, 0.3));\n",
              "      fill: #FFFFFF;\n",
              "    }\n",
              "  </style>\n",
              "\n",
              "    <script>\n",
              "      const buttonEl =\n",
              "        document.querySelector('#df-e7f6b136-cbbe-454e-a415-6cfdd4a66904 button.colab-df-convert');\n",
              "      buttonEl.style.display =\n",
              "        google.colab.kernel.accessAllowed ? 'block' : 'none';\n",
              "\n",
              "      async function convertToInteractive(key) {\n",
              "        const element = document.querySelector('#df-e7f6b136-cbbe-454e-a415-6cfdd4a66904');\n",
              "        const dataTable =\n",
              "          await google.colab.kernel.invokeFunction('convertToInteractive',\n",
              "                                                    [key], {});\n",
              "        if (!dataTable) return;\n",
              "\n",
              "        const docLinkHtml = 'Like what you see? Visit the ' +\n",
              "          '<a target=\"_blank\" href=https://colab.research.google.com/notebooks/data_table.ipynb>data table notebook</a>'\n",
              "          + ' to learn more about interactive tables.';\n",
              "        element.innerHTML = '';\n",
              "        dataTable['output_type'] = 'display_data';\n",
              "        await google.colab.output.renderOutput(dataTable, element);\n",
              "        const docLink = document.createElement('div');\n",
              "        docLink.innerHTML = docLinkHtml;\n",
              "        element.appendChild(docLink);\n",
              "      }\n",
              "    </script>\n",
              "  </div>\n",
              "\n",
              "\n",
              "    <div id=\"df-c8badeac-840a-4265-9274-49c1c3c86f94\">\n",
              "      <button class=\"colab-df-quickchart\" onclick=\"quickchart('df-c8badeac-840a-4265-9274-49c1c3c86f94')\"\n",
              "                title=\"Suggest charts\"\n",
              "                style=\"display:none;\">\n",
              "\n",
              "<svg xmlns=\"http://www.w3.org/2000/svg\" height=\"24px\"viewBox=\"0 0 24 24\"\n",
              "     width=\"24px\">\n",
              "    <g>\n",
              "        <path d=\"M19 3H5c-1.1 0-2 .9-2 2v14c0 1.1.9 2 2 2h14c1.1 0 2-.9 2-2V5c0-1.1-.9-2-2-2zM9 17H7v-7h2v7zm4 0h-2V7h2v10zm4 0h-2v-4h2v4z\"/>\n",
              "    </g>\n",
              "</svg>\n",
              "      </button>\n",
              "\n",
              "<style>\n",
              "  .colab-df-quickchart {\n",
              "      --bg-color: #E8F0FE;\n",
              "      --fill-color: #1967D2;\n",
              "      --hover-bg-color: #E2EBFA;\n",
              "      --hover-fill-color: #174EA6;\n",
              "      --disabled-fill-color: #AAA;\n",
              "      --disabled-bg-color: #DDD;\n",
              "  }\n",
              "\n",
              "  [theme=dark] .colab-df-quickchart {\n",
              "      --bg-color: #3B4455;\n",
              "      --fill-color: #D2E3FC;\n",
              "      --hover-bg-color: #434B5C;\n",
              "      --hover-fill-color: #FFFFFF;\n",
              "      --disabled-bg-color: #3B4455;\n",
              "      --disabled-fill-color: #666;\n",
              "  }\n",
              "\n",
              "  .colab-df-quickchart {\n",
              "    background-color: var(--bg-color);\n",
              "    border: none;\n",
              "    border-radius: 50%;\n",
              "    cursor: pointer;\n",
              "    display: none;\n",
              "    fill: var(--fill-color);\n",
              "    height: 32px;\n",
              "    padding: 0;\n",
              "    width: 32px;\n",
              "  }\n",
              "\n",
              "  .colab-df-quickchart:hover {\n",
              "    background-color: var(--hover-bg-color);\n",
              "    box-shadow: 0 1px 2px rgba(60, 64, 67, 0.3), 0 1px 3px 1px rgba(60, 64, 67, 0.15);\n",
              "    fill: var(--button-hover-fill-color);\n",
              "  }\n",
              "\n",
              "  .colab-df-quickchart-complete:disabled,\n",
              "  .colab-df-quickchart-complete:disabled:hover {\n",
              "    background-color: var(--disabled-bg-color);\n",
              "    fill: var(--disabled-fill-color);\n",
              "    box-shadow: none;\n",
              "  }\n",
              "\n",
              "  .colab-df-spinner {\n",
              "    border: 2px solid var(--fill-color);\n",
              "    border-color: transparent;\n",
              "    border-bottom-color: var(--fill-color);\n",
              "    animation:\n",
              "      spin 1s steps(1) infinite;\n",
              "  }\n",
              "\n",
              "  @keyframes spin {\n",
              "    0% {\n",
              "      border-color: transparent;\n",
              "      border-bottom-color: var(--fill-color);\n",
              "      border-left-color: var(--fill-color);\n",
              "    }\n",
              "    20% {\n",
              "      border-color: transparent;\n",
              "      border-left-color: var(--fill-color);\n",
              "      border-top-color: var(--fill-color);\n",
              "    }\n",
              "    30% {\n",
              "      border-color: transparent;\n",
              "      border-left-color: var(--fill-color);\n",
              "      border-top-color: var(--fill-color);\n",
              "      border-right-color: var(--fill-color);\n",
              "    }\n",
              "    40% {\n",
              "      border-color: transparent;\n",
              "      border-right-color: var(--fill-color);\n",
              "      border-top-color: var(--fill-color);\n",
              "    }\n",
              "    60% {\n",
              "      border-color: transparent;\n",
              "      border-right-color: var(--fill-color);\n",
              "    }\n",
              "    80% {\n",
              "      border-color: transparent;\n",
              "      border-right-color: var(--fill-color);\n",
              "      border-bottom-color: var(--fill-color);\n",
              "    }\n",
              "    90% {\n",
              "      border-color: transparent;\n",
              "      border-bottom-color: var(--fill-color);\n",
              "    }\n",
              "  }\n",
              "</style>\n",
              "\n",
              "      <script>\n",
              "        async function quickchart(key) {\n",
              "          const quickchartButtonEl =\n",
              "            document.querySelector('#' + key + ' button');\n",
              "          quickchartButtonEl.disabled = true;  // To prevent multiple clicks.\n",
              "          quickchartButtonEl.classList.add('colab-df-spinner');\n",
              "          try {\n",
              "            const charts = await google.colab.kernel.invokeFunction(\n",
              "                'suggestCharts', [key], {});\n",
              "          } catch (error) {\n",
              "            console.error('Error during call to suggestCharts:', error);\n",
              "          }\n",
              "          quickchartButtonEl.classList.remove('colab-df-spinner');\n",
              "          quickchartButtonEl.classList.add('colab-df-quickchart-complete');\n",
              "        }\n",
              "        (() => {\n",
              "          let quickchartButtonEl =\n",
              "            document.querySelector('#df-c8badeac-840a-4265-9274-49c1c3c86f94 button');\n",
              "          quickchartButtonEl.style.display =\n",
              "            google.colab.kernel.accessAllowed ? 'block' : 'none';\n",
              "        })();\n",
              "      </script>\n",
              "    </div>\n",
              "\n",
              "    </div>\n",
              "  </div>\n"
            ],
            "text/plain": [
              "   ID        State      City      Locality      Property_Type  BHK  \\\n",
              "0   1   Tamil Nadu   Chennai   Locality_84          Apartment    1   \n",
              "1   2  Maharashtra      Pune  Locality_490  Independent House    3   \n",
              "2   3       Punjab  Ludhiana  Locality_167          Apartment    2   \n",
              "3   4    Rajasthan   Jodhpur  Locality_393  Independent House    2   \n",
              "4   5    Rajasthan    Jaipur  Locality_466              Villa    4   \n",
              "\n",
              "   Size_in_SqFt  Price_in_Lakhs  Price_per_SqFt  Year_Built Furnished_Status  \\\n",
              "0          4740          489.76            0.10        1990        Furnished   \n",
              "1          2364          195.52            0.08        2008      Unfurnished   \n",
              "2          3642          183.79            0.05        1997   Semi-furnished   \n",
              "3          2741          300.29            0.11        1991        Furnished   \n",
              "4          4823          182.90            0.04        2002   Semi-furnished   \n",
              "\n",
              "   Floor_No  Total_Floors  Age_of_Property  Nearby_Schools  Nearby_Hospitals  \\\n",
              "0        22             1               35              10                 3   \n",
              "1        21            20               17               8                 1   \n",
              "2        19            27               28               9                 8   \n",
              "3        21            26               34               5                 7   \n",
              "4         3             2               23               4                 9   \n",
              "\n",
              "  Public_Transport_Accessibility Parking_Space Security  \\\n",
              "0                           High            No       No   \n",
              "1                            Low            No      Yes   \n",
              "2                            Low           Yes       No   \n",
              "3                           High           Yes      Yes   \n",
              "4                            Low            No      Yes   \n",
              "\n",
              "                                  Amenities Facing Owner_Type  \\\n",
              "0  Playground, Gym, Garden, Pool, Clubhouse   West      Owner   \n",
              "1  Playground, Clubhouse, Pool, Gym, Garden  North    Builder   \n",
              "2          Clubhouse, Pool, Playground, Gym  South     Broker   \n",
              "3  Playground, Clubhouse, Gym, Pool, Garden  North    Builder   \n",
              "4  Playground, Garden, Gym, Pool, Clubhouse   East    Builder   \n",
              "\n",
              "  Availability_Status  \n",
              "0       Ready_to_Move  \n",
              "1  Under_Construction  \n",
              "2       Ready_to_Move  \n",
              "3       Ready_to_Move  \n",
              "4       Ready_to_Move  "
            ]
          },
          "execution_count": 3,
          "metadata": {},
          "output_type": "execute_result"
        }
      ],
      "source": [
        "dt.head()"
      ]
    },
    {
      "cell_type": "code",
      "execution_count": 4,
      "metadata": {
        "id": "Jm8gnbKcNvpd"
      },
      "outputs": [],
      "source": [
        "city_avg = dt.groupby('City')['Price_per_SqFt'].mean()\n",
        "dt['City'] = dt['City'].map(city_avg)"
      ]
    },
    {
      "cell_type": "code",
      "execution_count": 5,
      "metadata": {
        "id": "Rdo8JbOCBTGC"
      },
      "outputs": [],
      "source": [
        "dt.drop(columns=['ID','Year_Built'],inplace=True)"
      ]
    },
    {
      "cell_type": "code",
      "execution_count": 6,
      "metadata": {
        "collapsed": true,
        "id": "jUnyXZoeD31R"
      },
      "outputs": [],
      "source": [
        "# dt['City'].value_counts()"
      ]
    },
    {
      "cell_type": "code",
      "execution_count": 7,
      "metadata": {
        "collapsed": true,
        "id": "M-9erQjsEFOm"
      },
      "outputs": [],
      "source": [
        "# dt['State'].value_counts()"
      ]
    },
    {
      "cell_type": "code",
      "execution_count": 8,
      "metadata": {
        "id": "C7Ud-beFFYbV"
      },
      "outputs": [],
      "source": [
        "LE=LabelEncoder()\n",
        "dt['Facing'] = LE.fit_transform(dt['Facing'])\n",
        "dt['State'] = LE.fit_transform(dt['State'])\n",
        "dt['Owner_Type'] = LE.fit_transform(dt['Owner_Type'])"
      ]
    },
    {
      "cell_type": "code",
      "execution_count": 9,
      "metadata": {
        "id": "oa4crX83Fmkl"
      },
      "outputs": [],
      "source": [
        "dt['Locality'] = dt['Locality'].str.split(\"_\").apply(lambda x: x[1])"
      ]
    },
    {
      "cell_type": "code",
      "execution_count": 10,
      "metadata": {
        "id": "8QCDdUKaP2D5"
      },
      "outputs": [],
      "source": [
        "dt['Locality']=dt['Locality'].astype(int)"
      ]
    },
    {
      "cell_type": "code",
      "execution_count": 11,
      "metadata": {
        "colab": {
          "base_uri": "https://localhost:8080/",
          "height": 209
        },
        "id": "Yner3zjNFzC3",
        "outputId": "0f55c9b4-f9ff-4ec2-cd3e-7f3f0ae26310"
      },
      "outputs": [
        {
          "data": {
            "text/html": [
              "<div>\n",
              "<style scoped>\n",
              "    .dataframe tbody tr th:only-of-type {\n",
              "        vertical-align: middle;\n",
              "    }\n",
              "\n",
              "    .dataframe tbody tr th {\n",
              "        vertical-align: top;\n",
              "    }\n",
              "\n",
              "    .dataframe thead th {\n",
              "        text-align: right;\n",
              "    }\n",
              "</style>\n",
              "<table border=\"1\" class=\"dataframe\">\n",
              "  <thead>\n",
              "    <tr style=\"text-align: right;\">\n",
              "      <th></th>\n",
              "      <th>count</th>\n",
              "    </tr>\n",
              "    <tr>\n",
              "      <th>Property_Type</th>\n",
              "      <th></th>\n",
              "    </tr>\n",
              "  </thead>\n",
              "  <tbody>\n",
              "    <tr>\n",
              "      <th>Villa</th>\n",
              "      <td>83744</td>\n",
              "    </tr>\n",
              "    <tr>\n",
              "      <th>Independent House</th>\n",
              "      <td>83300</td>\n",
              "    </tr>\n",
              "    <tr>\n",
              "      <th>Apartment</th>\n",
              "      <td>82956</td>\n",
              "    </tr>\n",
              "  </tbody>\n",
              "</table>\n",
              "</div><br><label><b>dtype:</b> int64</label>"
            ],
            "text/plain": [
              "Property_Type\n",
              "Villa                83744\n",
              "Independent House    83300\n",
              "Apartment            82956\n",
              "Name: count, dtype: int64"
            ]
          },
          "execution_count": 11,
          "metadata": {},
          "output_type": "execute_result"
        }
      ],
      "source": [
        "dt['Property_Type'].value_counts()"
      ]
    },
    {
      "cell_type": "code",
      "execution_count": 12,
      "metadata": {
        "colab": {
          "base_uri": "https://localhost:8080/",
          "height": 209
        },
        "id": "Xx0YYgnZHPfy",
        "outputId": "82f755e6-0e4e-4941-f28c-1963546ddba5"
      },
      "outputs": [
        {
          "data": {
            "text/html": [
              "<div>\n",
              "<style scoped>\n",
              "    .dataframe tbody tr th:only-of-type {\n",
              "        vertical-align: middle;\n",
              "    }\n",
              "\n",
              "    .dataframe tbody tr th {\n",
              "        vertical-align: top;\n",
              "    }\n",
              "\n",
              "    .dataframe thead th {\n",
              "        text-align: right;\n",
              "    }\n",
              "</style>\n",
              "<table border=\"1\" class=\"dataframe\">\n",
              "  <thead>\n",
              "    <tr style=\"text-align: right;\">\n",
              "      <th></th>\n",
              "      <th>count</th>\n",
              "    </tr>\n",
              "    <tr>\n",
              "      <th>Furnished_Status</th>\n",
              "      <th></th>\n",
              "    </tr>\n",
              "  </thead>\n",
              "  <tbody>\n",
              "    <tr>\n",
              "      <th>Unfurnished</th>\n",
              "      <td>83408</td>\n",
              "    </tr>\n",
              "    <tr>\n",
              "      <th>Semi-furnished</th>\n",
              "      <td>83374</td>\n",
              "    </tr>\n",
              "    <tr>\n",
              "      <th>Furnished</th>\n",
              "      <td>83218</td>\n",
              "    </tr>\n",
              "  </tbody>\n",
              "</table>\n",
              "</div><br><label><b>dtype:</b> int64</label>"
            ],
            "text/plain": [
              "Furnished_Status\n",
              "Unfurnished       83408\n",
              "Semi-furnished    83374\n",
              "Furnished         83218\n",
              "Name: count, dtype: int64"
            ]
          },
          "execution_count": 12,
          "metadata": {},
          "output_type": "execute_result"
        }
      ],
      "source": [
        "dt['Furnished_Status'].value_counts()"
      ]
    },
    {
      "cell_type": "code",
      "execution_count": 13,
      "metadata": {
        "colab": {
          "base_uri": "https://localhost:8080/",
          "height": 209
        },
        "id": "zxQ2TdBRHX2V",
        "outputId": "2830a049-8a6c-4787-fc85-324fe18c028a"
      },
      "outputs": [
        {
          "data": {
            "text/html": [
              "<div>\n",
              "<style scoped>\n",
              "    .dataframe tbody tr th:only-of-type {\n",
              "        vertical-align: middle;\n",
              "    }\n",
              "\n",
              "    .dataframe tbody tr th {\n",
              "        vertical-align: top;\n",
              "    }\n",
              "\n",
              "    .dataframe thead th {\n",
              "        text-align: right;\n",
              "    }\n",
              "</style>\n",
              "<table border=\"1\" class=\"dataframe\">\n",
              "  <thead>\n",
              "    <tr style=\"text-align: right;\">\n",
              "      <th></th>\n",
              "      <th>count</th>\n",
              "    </tr>\n",
              "    <tr>\n",
              "      <th>Public_Transport_Accessibility</th>\n",
              "      <th></th>\n",
              "    </tr>\n",
              "  </thead>\n",
              "  <tbody>\n",
              "    <tr>\n",
              "      <th>High</th>\n",
              "      <td>83705</td>\n",
              "    </tr>\n",
              "    <tr>\n",
              "      <th>Low</th>\n",
              "      <td>83287</td>\n",
              "    </tr>\n",
              "    <tr>\n",
              "      <th>Medium</th>\n",
              "      <td>83008</td>\n",
              "    </tr>\n",
              "  </tbody>\n",
              "</table>\n",
              "</div><br><label><b>dtype:</b> int64</label>"
            ],
            "text/plain": [
              "Public_Transport_Accessibility\n",
              "High      83705\n",
              "Low       83287\n",
              "Medium    83008\n",
              "Name: count, dtype: int64"
            ]
          },
          "execution_count": 13,
          "metadata": {},
          "output_type": "execute_result"
        }
      ],
      "source": [
        "dt['Public_Transport_Accessibility'].value_counts()"
      ]
    },
    {
      "cell_type": "code",
      "execution_count": 14,
      "metadata": {
        "colab": {
          "base_uri": "https://localhost:8080/",
          "height": 178
        },
        "id": "W0DkmQ19Hc_z",
        "outputId": "b9229b35-bd53-4ba2-ff91-dffbaf6a54fe"
      },
      "outputs": [
        {
          "data": {
            "text/html": [
              "<div>\n",
              "<style scoped>\n",
              "    .dataframe tbody tr th:only-of-type {\n",
              "        vertical-align: middle;\n",
              "    }\n",
              "\n",
              "    .dataframe tbody tr th {\n",
              "        vertical-align: top;\n",
              "    }\n",
              "\n",
              "    .dataframe thead th {\n",
              "        text-align: right;\n",
              "    }\n",
              "</style>\n",
              "<table border=\"1\" class=\"dataframe\">\n",
              "  <thead>\n",
              "    <tr style=\"text-align: right;\">\n",
              "      <th></th>\n",
              "      <th>count</th>\n",
              "    </tr>\n",
              "    <tr>\n",
              "      <th>Parking_Space</th>\n",
              "      <th></th>\n",
              "    </tr>\n",
              "  </thead>\n",
              "  <tbody>\n",
              "    <tr>\n",
              "      <th>No</th>\n",
              "      <td>125456</td>\n",
              "    </tr>\n",
              "    <tr>\n",
              "      <th>Yes</th>\n",
              "      <td>124544</td>\n",
              "    </tr>\n",
              "  </tbody>\n",
              "</table>\n",
              "</div><br><label><b>dtype:</b> int64</label>"
            ],
            "text/plain": [
              "Parking_Space\n",
              "No     125456\n",
              "Yes    124544\n",
              "Name: count, dtype: int64"
            ]
          },
          "execution_count": 14,
          "metadata": {},
          "output_type": "execute_result"
        }
      ],
      "source": [
        "dt['Parking_Space'].value_counts()"
      ]
    },
    {
      "cell_type": "code",
      "execution_count": 15,
      "metadata": {
        "colab": {
          "base_uri": "https://localhost:8080/",
          "height": 178
        },
        "id": "Pl7jPrgiHkax",
        "outputId": "5490c5c6-5c83-437f-89f3-9bdcdf40dbad"
      },
      "outputs": [
        {
          "data": {
            "text/html": [
              "<div>\n",
              "<style scoped>\n",
              "    .dataframe tbody tr th:only-of-type {\n",
              "        vertical-align: middle;\n",
              "    }\n",
              "\n",
              "    .dataframe tbody tr th {\n",
              "        vertical-align: top;\n",
              "    }\n",
              "\n",
              "    .dataframe thead th {\n",
              "        text-align: right;\n",
              "    }\n",
              "</style>\n",
              "<table border=\"1\" class=\"dataframe\">\n",
              "  <thead>\n",
              "    <tr style=\"text-align: right;\">\n",
              "      <th></th>\n",
              "      <th>count</th>\n",
              "    </tr>\n",
              "    <tr>\n",
              "      <th>Security</th>\n",
              "      <th></th>\n",
              "    </tr>\n",
              "  </thead>\n",
              "  <tbody>\n",
              "    <tr>\n",
              "      <th>Yes</th>\n",
              "      <td>125233</td>\n",
              "    </tr>\n",
              "    <tr>\n",
              "      <th>No</th>\n",
              "      <td>124767</td>\n",
              "    </tr>\n",
              "  </tbody>\n",
              "</table>\n",
              "</div><br><label><b>dtype:</b> int64</label>"
            ],
            "text/plain": [
              "Security\n",
              "Yes    125233\n",
              "No     124767\n",
              "Name: count, dtype: int64"
            ]
          },
          "execution_count": 15,
          "metadata": {},
          "output_type": "execute_result"
        }
      ],
      "source": [
        "dt['Security'].value_counts()"
      ]
    },
    {
      "cell_type": "code",
      "execution_count": 16,
      "metadata": {
        "colab": {
          "base_uri": "https://localhost:8080/",
          "height": 178
        },
        "id": "gi2Mu4oeHlEq",
        "outputId": "c20a83ec-1145-4297-9808-544d04de12ee"
      },
      "outputs": [
        {
          "data": {
            "text/html": [
              "<div>\n",
              "<style scoped>\n",
              "    .dataframe tbody tr th:only-of-type {\n",
              "        vertical-align: middle;\n",
              "    }\n",
              "\n",
              "    .dataframe tbody tr th {\n",
              "        vertical-align: top;\n",
              "    }\n",
              "\n",
              "    .dataframe thead th {\n",
              "        text-align: right;\n",
              "    }\n",
              "</style>\n",
              "<table border=\"1\" class=\"dataframe\">\n",
              "  <thead>\n",
              "    <tr style=\"text-align: right;\">\n",
              "      <th></th>\n",
              "      <th>count</th>\n",
              "    </tr>\n",
              "    <tr>\n",
              "      <th>Availability_Status</th>\n",
              "      <th></th>\n",
              "    </tr>\n",
              "  </thead>\n",
              "  <tbody>\n",
              "    <tr>\n",
              "      <th>Under_Construction</th>\n",
              "      <td>125035</td>\n",
              "    </tr>\n",
              "    <tr>\n",
              "      <th>Ready_to_Move</th>\n",
              "      <td>124965</td>\n",
              "    </tr>\n",
              "  </tbody>\n",
              "</table>\n",
              "</div><br><label><b>dtype:</b> int64</label>"
            ],
            "text/plain": [
              "Availability_Status\n",
              "Under_Construction    125035\n",
              "Ready_to_Move         124965\n",
              "Name: count, dtype: int64"
            ]
          },
          "execution_count": 16,
          "metadata": {},
          "output_type": "execute_result"
        }
      ],
      "source": [
        "dt['Availability_Status'].value_counts()"
      ]
    },
    {
      "cell_type": "code",
      "execution_count": 17,
      "metadata": {
        "id": "UswMtf13IIaO"
      },
      "outputs": [],
      "source": [
        "cols_to_encode = ['Property_Type', 'Furnished_Status', 'Public_Transport_Accessibility','Availability_Status','Security','Parking_Space']"
      ]
    },
    {
      "cell_type": "code",
      "execution_count": 18,
      "metadata": {
        "id": "yYRIEWf-KYas"
      },
      "outputs": [],
      "source": [
        "encoder = OrdinalEncoder(categories=[\n",
        "    ['Apartment', 'Independent House', 'Villa'],\n",
        "    ['Unfurnished','Semi-furnished','Furnished'],\n",
        "    ['Low','Medium','High'],\n",
        "    ['Under_Construction','Ready_to_Move'],\n",
        "    ['No','Yes'],\n",
        "    ['No','Yes']\n",
        "])\n"
      ]
    },
    {
      "cell_type": "code",
      "execution_count": 19,
      "metadata": {
        "id": "p4H673iDLYw2"
      },
      "outputs": [],
      "source": [
        "dt[cols_to_encode]=encoder.fit_transform(dt[cols_to_encode])"
      ]
    },
    {
      "cell_type": "code",
      "execution_count": 20,
      "metadata": {
        "id": "4o0q92iMLfyz"
      },
      "outputs": [],
      "source": [
        "from sklearn.preprocessing import MultiLabelBinarizer\n",
        "dt['Amenities'] = dt['Amenities'].apply(lambda x: [i.strip() for i in x.split(',') if i.strip() != ''])\n",
        "\n",
        "mlb = MultiLabelBinarizer()\n",
        "\n",
        "amenities_encoded = mlb.fit_transform(dt['Amenities'])\n",
        "\n",
        "amenities_df = pd.DataFrame(amenities_encoded, columns=mlb.classes_)\n",
        "\n",
        "dt = pd.concat([dt, amenities_df], axis=1)\n"
      ]
    },
    {
      "cell_type": "code",
      "execution_count": 21,
      "metadata": {
        "id": "ltOtF-bg3UCc"
      },
      "outputs": [],
      "source": [
        "dt.drop(columns=['Amenities'],inplace=True)"
      ]
    },
    {
      "cell_type": "code",
      "execution_count": 22,
      "metadata": {
        "id": "TVd-7DUCOpDt"
      },
      "outputs": [],
      "source": [
        "# dt['Amenities']=dt['Clubhouse']+dt['Garden']+dt['Gym']+dt['Playground']+dt['Pool']"
      ]
    },
    {
      "cell_type": "code",
      "execution_count": 23,
      "metadata": {
        "id": "quLBLM6KPGzn"
      },
      "outputs": [],
      "source": [
        "# dt.drop(columns=['Clubhouse','Garden','Gym','Playground','Pool'],inplace=True)"
      ]
    },
    {
      "cell_type": "code",
      "execution_count": 24,
      "metadata": {
        "colab": {
          "base_uri": "https://localhost:8080/"
        },
        "id": "qhgYTBsXPrV4",
        "outputId": "d97b2a7f-7193-4f65-9348-13549eb273b7"
      },
      "outputs": [
        {
          "name": "stdout",
          "output_type": "stream",
          "text": [
            "<class 'pandas.core.frame.DataFrame'>\n",
            "RangeIndex: 250000 entries, 0 to 249999\n",
            "Data columns (total 25 columns):\n",
            " #   Column                          Non-Null Count   Dtype  \n",
            "---  ------                          --------------   -----  \n",
            " 0   State                           250000 non-null  int64  \n",
            " 1   City                            250000 non-null  float64\n",
            " 2   Locality                        250000 non-null  int64  \n",
            " 3   Property_Type                   250000 non-null  float64\n",
            " 4   BHK                             250000 non-null  int64  \n",
            " 5   Size_in_SqFt                    250000 non-null  int64  \n",
            " 6   Price_in_Lakhs                  250000 non-null  float64\n",
            " 7   Price_per_SqFt                  250000 non-null  float64\n",
            " 8   Furnished_Status                250000 non-null  float64\n",
            " 9   Floor_No                        250000 non-null  int64  \n",
            " 10  Total_Floors                    250000 non-null  int64  \n",
            " 11  Age_of_Property                 250000 non-null  int64  \n",
            " 12  Nearby_Schools                  250000 non-null  int64  \n",
            " 13  Nearby_Hospitals                250000 non-null  int64  \n",
            " 14  Public_Transport_Accessibility  250000 non-null  float64\n",
            " 15  Parking_Space                   250000 non-null  float64\n",
            " 16  Security                        250000 non-null  float64\n",
            " 17  Facing                          250000 non-null  int64  \n",
            " 18  Owner_Type                      250000 non-null  int64  \n",
            " 19  Availability_Status             250000 non-null  float64\n",
            " 20  Clubhouse                       250000 non-null  int64  \n",
            " 21  Garden                          250000 non-null  int64  \n",
            " 22  Gym                             250000 non-null  int64  \n",
            " 23  Playground                      250000 non-null  int64  \n",
            " 24  Pool                            250000 non-null  int64  \n",
            "dtypes: float64(9), int64(16)\n",
            "memory usage: 47.7 MB\n"
          ]
        }
      ],
      "source": [
        "dt.info()"
      ]
    },
    {
      "cell_type": "code",
      "execution_count": 25,
      "metadata": {
        "id": "dWFewLGbQx4x"
      },
      "outputs": [],
      "source": [
        "X_train,X_test,Y_train,Y_test=train_test_split(dt.drop(columns=['Price_in_Lakhs']),dt['Price_in_Lakhs'],test_size=0.2,random_state=42)"
      ]
    },
    {
      "cell_type": "code",
      "execution_count": 26,
      "metadata": {
        "colab": {
          "base_uri": "https://localhost:8080/"
        },
        "id": "J2hBMsExxJU1",
        "outputId": "44866496-e84e-4b19-a698-dc8dbd72708c"
      },
      "outputs": [
        {
          "data": {
            "text/plain": [
              "(200000, 24)"
            ]
          },
          "execution_count": 26,
          "metadata": {},
          "output_type": "execute_result"
        }
      ],
      "source": [
        "X_train.shape"
      ]
    },
    {
      "cell_type": "code",
      "execution_count": 27,
      "metadata": {
        "colab": {
          "base_uri": "https://localhost:8080/",
          "height": 588
        },
        "id": "uAXJ6526SUsc",
        "outputId": "d405f1f2-d48b-4f27-fe3d-c1a038e4486a"
      },
      "outputs": [
        {
          "name": "stderr",
          "output_type": "stream",
          "text": [
            "/tmp/ipython-input-27-2163986655.py:3: UserWarning: \n",
            "\n",
            "`distplot` is a deprecated function and will be removed in seaborn v0.14.0.\n",
            "\n",
            "Please adapt your code to use either `displot` (a figure-level function with\n",
            "similar flexibility) or `histplot` (an axes-level function for histograms).\n",
            "\n",
            "For a guide to updating your code to use the new functions, please see\n",
            "https://gist.github.com/mwaskom/de44147ed2974457ad6372750bbe5751\n",
            "\n",
            "  sns.distplot(Y_train)\n"
          ]
        },
        {
          "data": {
            "image/png": "[encoded data removed]",
            "text/plain": [
              "<Figure size 1400x400 with 1 Axes>"
            ]
          },
          "metadata": {},
          "output_type": "display_data"
        }
      ],
      "source": [
        "plt.figure(figsize=(14,4))\n",
        "plt.subplot(121)\n",
        "sns.distplot(Y_train)\n",
        "plt.show()"
      ]
    },
    {
      "cell_type": "code",
      "execution_count": 28,
      "metadata": {
        "colab": {
          "base_uri": "https://localhost:8080/"
        },
        "id": "c27GqWZKu-GL",
        "outputId": "aaccd4a6-3274-48d5-8216-af2704748f26"
      },
      "outputs": [
        {
          "data": {
            "text/plain": [
              "np.float64(0.007770727715464974)"
            ]
          },
          "execution_count": 28,
          "metadata": {},
          "output_type": "execute_result"
        }
      ],
      "source": [
        "Y_train.skew()"
      ]
    },
    {
      "cell_type": "code",
      "execution_count": 29,
      "metadata": {
        "colab": {
          "base_uri": "https://localhost:8080/"
        },
        "id": "91n63VMLvASQ",
        "outputId": "96c45213-bca6-47ce-e050-3a217c625d47"
      },
      "outputs": [
        {
          "name": "stdout",
          "output_type": "stream",
          "text": [
            "State\n",
            "-0.0027247838075917684\n",
            "City\n",
            "-0.00149636481366666\n",
            "Locality\n",
            "0.003340257704842517\n",
            "Property_Type\n",
            "-0.007375382278311796\n",
            "BHK\n",
            "9.869133901485633e-05\n",
            "Size_in_SqFt\n",
            "0.002462285248692164\n",
            "Price_per_SqFt\n",
            "2.3201529875831826\n",
            "Furnished_Status\n",
            "0.000835937516965762\n",
            "Floor_No\n",
            "0.009100651710814483\n",
            "Total_Floors\n",
            "-9.611348295414549e-05\n",
            "Age_of_Property\n",
            "-0.0004384748609295698\n",
            "Nearby_Schools\n",
            "-0.000936889749587162\n",
            "Nearby_Hospitals\n",
            "0.0014436442910306284\n",
            "Public_Transport_Accessibility\n",
            "-0.0012873008132658675\n",
            "Parking_Space\n",
            "0.0067800898093343595\n",
            "Security\n",
            "-0.0007600057549272013\n",
            "Facing\n",
            "-0.0052468022646457065\n",
            "Owner_Type\n",
            "0.0014054353481746695\n",
            "Availability_Status\n",
            "6.000045003129896e-05\n",
            "Clubhouse\n",
            "-0.4121021566956299\n",
            "Garden\n",
            "-0.41176157745691505\n",
            "Gym\n",
            "-0.40886803791687676\n",
            "Playground\n",
            "-0.40506337921467744\n",
            "Pool\n",
            "-0.4093359430167162\n"
          ]
        }
      ],
      "source": [
        "for i in X_train.columns:\n",
        "    print(i)\n",
        "    print(X_train[i].skew())"
      ]
    },
    {
      "cell_type": "code",
      "execution_count": 30,
      "metadata": {
        "id": "d7q17AkcPv9-"
      },
      "outputs": [],
      "source": [
        "SS=StandardScaler()\n",
        "X_train=SS.fit_transform(X_train)\n",
        "X_test=SS.transform(X_test)"
      ]
    },
    {
      "cell_type": "code",
      "execution_count": null,
      "metadata": {
        "id": "xi38KrkyRLtk"
      },
      "outputs": [],
      "source": [
        "from sklearn.tree import DecisionTreeRegressor\n",
        "dtree_reg = DecisionTreeRegressor()\n",
        "dtree_reg.fit(X_train, Y_train)\n",
        "y_pred_dt = dtree_reg.predict(X_test)\n",
        "mse_dt = mean_squared_error(Y_test, y_pred_dt)\n",
        "r2_dt = r2_score(Y_test, y_pred_dt)\n",
        "print(f\"Decision Tree Regressor - MSE: {mse_dt:.2f}, R²: {r2_dt:.2f}\")"
      ]
    },
    {
      "cell_type": "code",
      "execution_count": null,
      "metadata": {
        "id": "JXcjAqhLRvnG"
      },
      "outputs": [],
      "source": [
        "from sklearn.ensemble import RandomForestRegressor\n",
        "from sklearn.metrics import mean_squared_error, r2_score\n",
        "\n",
        "# Initialize and train\n",
        "rf_reg = RandomForestRegressor(n_estimators=100, random_state=42)\n",
        "rf_reg.fit(X_train, Y_train)\n",
        "\n",
        "# Predict\n",
        "y_pred_rf = rf_reg.predict(X_test)\n",
        "\n",
        "# Evaluate\n",
        "mse_rf = mean_squared_error(Y_test, y_pred_rf)\n",
        "r2_rf = r2_score(Y_test, y_pred_rf)\n",
        "print(f\"Random Forest Regressor - MSE: {mse_rf:.2f}, R²: {r2_rf:.2f}\")\n"
      ]
    },
    {
      "cell_type": "code",
      "execution_count": 33,
      "metadata": {
        "id": "ImH03SQTvcWw"
      },
      "outputs": [],
      "source": [
        "import tensorflow\n",
        "from tensorflow import keras\n",
        "from tensorflow.keras import Sequential\n",
        "from tensorflow.keras.layers import Dense"
      ]
    },
    {
      "cell_type": "code",
      "execution_count": 34,
      "metadata": {
        "colab": {
          "base_uri": "https://localhost:8080/"
        },
        "id": "Yhv9jg8QwerF",
        "outputId": "931d608e-41c7-47f9-d3b2-17f6a456a48e"
      },
      "outputs": [
        {
          "name": "stderr",
          "output_type": "stream",
          "text": [
            "/usr/local/lib/python3.11/dist-packages/keras/src/layers/core/dense.py:87: UserWarning: Do not pass an `input_shape`/`input_dim` argument to a layer. When using Sequential models, prefer using an `Input(shape)` object as the first layer in the model instead.\n",
            "  super().__init__(activity_regularizer=activity_regularizer, **kwargs)\n"
          ]
        }
      ],
      "source": [
        "model=Sequential()\n",
        "model.add(Dense(10,activation='relu',input_shape=(X_train.shape[1],)))\n",
        "model.add(Dense(5,activation='relu'))\n",
        "model.add(Dense(1,activation='linear'))"
      ]
    },
    {
      "cell_type": "code",
      "execution_count": 35,
      "metadata": {
        "colab": {
          "base_uri": "https://localhost:8080/",
          "height": 225
        },
        "id": "3qYkT-vmwsYh",
        "outputId": "2aba5a82-30b8-4f67-c652-95ece10ef5fe"
      },
      "outputs": [
        {
          "data": {
            "text/html": [
              "<pre style=\"white-space:pre;overflow-x:auto;line-height:normal;font-family:Menlo,'DejaVu Sans Mono',consolas,'Courier New',monospace\"><span style=\"font-weight: bold\">Model: \"sequential\"</span>\n",
              "</pre>\n"
            ],
            "text/plain": [
              "\u001b[1mModel: \"sequential\"\u001b[0m\n"
            ]
          },
          "metadata": {},
          "output_type": "display_data"
        },
        {
          "data": {
            "text/html": [
              "<pre style=\"white-space:pre;overflow-x:auto;line-height:normal;font-family:Menlo,'DejaVu Sans Mono',consolas,'Courier New',monospace\">┏━━━━━━━━━━━━━━━━━━━━━━━━━━━━━━━━━┳━━━━━━━━━━━━━━━━━━━━━━━━┳━━━━━━━━━━━━━━━┓\n",
              "┃<span style=\"font-weight: bold\"> Layer (type)                    </span>┃<span style=\"font-weight: bold\"> Output Shape           </span>┃<span style=\"font-weight: bold\">       Param # </span>┃\n",
              "┡━━━━━━━━━━━━━━━━━━━━━━━━━━━━━━━━━╇━━━━━━━━━━━━━━━━━━━━━━━━╇━━━━━━━━━━━━━━━┩\n",
              "│ dense (<span style=\"color: #0087ff; text-decoration-color: #0087ff\">Dense</span>)                   │ (<span style=\"color: #00d7ff; text-decoration-color: #00d7ff\">None</span>, <span style=\"color: #00af00; text-decoration-color: #00af00\">10</span>)             │           <span style=\"color: #00af00; text-decoration-color: #00af00\">250</span> │\n",
              "├─────────────────────────────────┼────────────────────────┼───────────────┤\n",
              "│ dense_1 (<span style=\"color: #0087ff; text-decoration-color: #0087ff\">Dense</span>)                 │ (<span style=\"color: #00d7ff; text-decoration-color: #00d7ff\">None</span>, <span style=\"color: #00af00; text-decoration-color: #00af00\">5</span>)              │            <span style=\"color: #00af00; text-decoration-color: #00af00\">55</span> │\n",
              "├─────────────────────────────────┼────────────────────────┼───────────────┤\n",
              "│ dense_2 (<span style=\"color: #0087ff; text-decoration-color: #0087ff\">Dense</span>)                 │ (<span style=\"color: #00d7ff; text-decoration-color: #00d7ff\">None</span>, <span style=\"color: #00af00; text-decoration-color: #00af00\">1</span>)              │             <span style=\"color: #00af00; text-decoration-color: #00af00\">6</span> │\n",
              "└─────────────────────────────────┴────────────────────────┴───────────────┘\n",
              "</pre>\n"
            ],
            "text/plain": [
              "┏━━━━━━━━━━━━━━━━━━━━━━━━━━━━━━━━━┳━━━━━━━━━━━━━━━━━━━━━━━━┳━━━━━━━━━━━━━━━┓\n",
              "┃\u001b[1m \u001b[0m\u001b[1mLayer (type)                   \u001b[0m\u001b[1m \u001b[0m┃\u001b[1m \u001b[0m\u001b[1mOutput Shape          \u001b[0m\u001b[1m \u001b[0m┃\u001b[1m \u001b[0m\u001b[1m      Param #\u001b[0m\u001b[1m \u001b[0m┃\n",
              "┡━━━━━━━━━━━━━━━━━━━━━━━━━━━━━━━━━╇━━━━━━━━━━━━━━━━━━━━━━━━╇━━━━━━━━━━━━━━━┩\n",
              "│ dense (\u001b[38;5;33mDense\u001b[0m)                   │ (\u001b[38;5;45mNone\u001b[0m, \u001b[38;5;34m10\u001b[0m)             │           \u001b[38;5;34m250\u001b[0m │\n",
              "├─────────────────────────────────┼────────────────────────┼───────────────┤\n",
              "│ dense_1 (\u001b[38;5;33mDense\u001b[0m)                 │ (\u001b[38;5;45mNone\u001b[0m, \u001b[38;5;34m5\u001b[0m)              │            \u001b[38;5;34m55\u001b[0m │\n",
              "├─────────────────────────────────┼────────────────────────┼───────────────┤\n",
              "│ dense_2 (\u001b[38;5;33mDense\u001b[0m)                 │ (\u001b[38;5;45mNone\u001b[0m, \u001b[38;5;34m1\u001b[0m)              │             \u001b[38;5;34m6\u001b[0m │\n",
              "└─────────────────────────────────┴────────────────────────┴───────────────┘\n"
            ]
          },
          "metadata": {},
          "output_type": "display_data"
        },
        {
          "data": {
            "text/html": [
              "<pre style=\"white-space:pre;overflow-x:auto;line-height:normal;font-family:Menlo,'DejaVu Sans Mono',consolas,'Courier New',monospace\"><span style=\"font-weight: bold\"> Total params: </span><span style=\"color: #00af00; text-decoration-color: #00af00\">311</span> (1.21 KB)\n",
              "</pre>\n"
            ],
            "text/plain": [
              "\u001b[1m Total params: \u001b[0m\u001b[38;5;34m311\u001b[0m (1.21 KB)\n"
            ]
          },
          "metadata": {},
          "output_type": "display_data"
        },
        {
          "data": {
            "text/html": [
              "<pre style=\"white-space:pre;overflow-x:auto;line-height:normal;font-family:Menlo,'DejaVu Sans Mono',consolas,'Courier New',monospace\"><span style=\"font-weight: bold\"> Trainable params: </span><span style=\"color: #00af00; text-decoration-color: #00af00\">311</span> (1.21 KB)\n",
              "</pre>\n"
            ],
            "text/plain": [
              "\u001b[1m Trainable params: \u001b[0m\u001b[38;5;34m311\u001b[0m (1.21 KB)\n"
            ]
          },
          "metadata": {},
          "output_type": "display_data"
        },
        {
          "data": {
            "text/html": [
              "<pre style=\"white-space:pre;overflow-x:auto;line-height:normal;font-family:Menlo,'DejaVu Sans Mono',consolas,'Courier New',monospace\"><span style=\"font-weight: bold\"> Non-trainable params: </span><span style=\"color: #00af00; text-decoration-color: #00af00\">0</span> (0.00 B)\n",
              "</pre>\n"
            ],
            "text/plain": [
              "\u001b[1m Non-trainable params: \u001b[0m\u001b[38;5;34m0\u001b[0m (0.00 B)\n"
            ]
          },
          "metadata": {},
          "output_type": "display_data"
        }
      ],
      "source": [
        "model.summary()"
      ]
    },
    {
      "cell_type": "code",
      "execution_count": 36,
      "metadata": {
        "id": "wqrCYinBwuYQ"
      },
      "outputs": [],
      "source": [
        "model.compile(loss='mean_absolute_error',optimizer='Adam')"
      ]
    },
    {
      "cell_type": "code",
      "execution_count": 37,
      "metadata": {
        "colab": {
          "base_uri": "https://localhost:8080/"
        },
        "id": "mlbBzUBbwwj8",
        "outputId": "d9c8e997-e497-4b47-cb0c-8b30d4935d21"
      },
      "outputs": [
        {
          "name": "stdout",
          "output_type": "stream",
          "text": [
            "Epoch 1/10\n",
            "\u001b[1m5000/5000\u001b[0m \u001b[32m━━━━━━━━━━━━━━━━━━━━\u001b[0m\u001b[37m\u001b[0m \u001b[1m15s\u001b[0m 3ms/step - loss: 156.4205 - val_loss: 86.0073\n",
            "Epoch 2/10\n",
            "\u001b[1m5000/5000\u001b[0m \u001b[32m━━━━━━━━━━━━━━━━━━━━\u001b[0m\u001b[37m\u001b[0m \u001b[1m13s\u001b[0m 3ms/step - loss: 82.1399 - val_loss: 50.3265\n",
            "Epoch 3/10\n",
            "\u001b[1m5000/5000\u001b[0m \u001b[32m━━━━━━━━━━━━━━━━━━━━\u001b[0m\u001b[37m\u001b[0m \u001b[1m13s\u001b[0m 3ms/step - loss: 38.3789 - val_loss: 26.3273\n",
            "Epoch 4/10\n",
            "\u001b[1m5000/5000\u001b[0m \u001b[32m━━━━━━━━━━━━━━━━━━━━\u001b[0m\u001b[37m\u001b[0m \u001b[1m13s\u001b[0m 3ms/step - loss: 25.4465 - val_loss: 24.3668\n",
            "Epoch 5/10\n",
            "\u001b[1m5000/5000\u001b[0m \u001b[32m━━━━━━━━━━━━━━━━━━━━\u001b[0m\u001b[37m\u001b[0m \u001b[1m12s\u001b[0m 2ms/step - loss: 24.1306 - val_loss: 24.1023\n",
            "Epoch 6/10\n",
            "\u001b[1m5000/5000\u001b[0m \u001b[32m━━━━━━━━━━━━━━━━━━━━\u001b[0m\u001b[37m\u001b[0m \u001b[1m22s\u001b[0m 3ms/step - loss: 23.9854 - val_loss: 24.0173\n",
            "Epoch 7/10\n",
            "\u001b[1m5000/5000\u001b[0m \u001b[32m━━━━━━━━━━━━━━━━━━━━\u001b[0m\u001b[37m\u001b[0m \u001b[1m18s\u001b[0m 2ms/step - loss: 23.8791 - val_loss: 23.8689\n",
            "Epoch 8/10\n",
            "\u001b[1m5000/5000\u001b[0m \u001b[32m━━━━━━━━━━━━━━━━━━━━\u001b[0m\u001b[37m\u001b[0m \u001b[1m13s\u001b[0m 3ms/step - loss: 23.8860 - val_loss: 23.8864\n",
            "Epoch 9/10\n",
            "\u001b[1m5000/5000\u001b[0m \u001b[32m━━━━━━━━━━━━━━━━━━━━\u001b[0m\u001b[37m\u001b[0m \u001b[1m19s\u001b[0m 2ms/step - loss: 23.7052 - val_loss: 23.7421\n",
            "Epoch 10/10\n",
            "\u001b[1m5000/5000\u001b[0m \u001b[32m━━━━━━━━━━━━━━━━━━━━\u001b[0m\u001b[37m\u001b[0m \u001b[1m12s\u001b[0m 2ms/step - loss: 23.4715 - val_loss: 23.5178\n"
          ]
        }
      ],
      "source": [
        "history=model.fit(X_train,Y_train,epochs=10,validation_split=0.2)"
      ]
    },
    {
      "cell_type": "code",
      "execution_count": 38,
      "metadata": {
        "colab": {
          "base_uri": "https://localhost:8080/"
        },
        "id": "8-YfhOSswziY",
        "outputId": "ed5565ed-e63c-4f47-ef38-9a6681047c8b"
      },
      "outputs": [
        {
          "name": "stdout",
          "output_type": "stream",
          "text": [
            "\u001b[1m1563/1563\u001b[0m \u001b[32m━━━━━━━━━━━━━━━━━━━━\u001b[0m\u001b[37m\u001b[0m \u001b[1m2s\u001b[0m 1ms/step\n"
          ]
        },
        {
          "data": {
            "text/plain": [
              "0.9455972912810076"
            ]
          },
          "execution_count": 38,
          "metadata": {},
          "output_type": "execute_result"
        }
      ],
      "source": [
        "y_pred_dl=model.predict(X_test)\n",
        "r2_score(Y_test, y_pred_dl)"
      ]
    },
    {
      "cell_type": "code",
      "execution_count": 39,
      "metadata": {
        "colab": {
          "base_uri": "https://localhost:8080/"
        },
        "id": "wWnKmyHu2NRO",
        "outputId": "100ba740-9a64-42fd-9dd2-84a527fd0532"
      },
      "outputs": [
        {
          "data": {
            "text/plain": [
              "1084.5455009345349"
            ]
          },
          "execution_count": 39,
          "metadata": {},
          "output_type": "execute_result"
        }
      ],
      "source": [
        "mean_squared_error(Y_test, y_pred_dl)"
      ]
    },
    {
      "cell_type": "code",
      "execution_count": null,
      "metadata": {
        "id": "HMJnS_0G2jhw"
      },
      "outputs": [],
      "source": [
        "from sklearn.svm import SVR\n",
        "svr = SVR(kernel='rbf', C=10, epsilon=0.1)\n",
        "svr.fit(X_train, Y_train)\n",
        "y_pred_svr = svr.predict(X_test)"
      ]
    },
    {
      "cell_type": "code",
      "execution_count": null,
      "metadata": {
        "id": "9xfdaRwW-drn"
      },
      "outputs": [],
      "source": [
        "r2 = r2_score(Y_test, y_pred_svr)\n",
        "mse = mean_squared_error(Y_test, y_pred_svr)\n",
        "mae = mean_absolute_error(Y_test, y_pred_svr)"
      ]
    },
    {
      "cell_type": "code",
      "execution_count": null,
      "metadata": {
        "id": "CW7eeVsH-fnn"
      },
      "outputs": [],
      "source": [
        "print(f\"SVR R² Score     : {r2:.4f}\")\n",
        "print(f\"SVR MSE          : {mse:.2f}\")\n",
        "print(f\"SVR MAE          : {mae:.2f}\")"
      ]
    }
  ],
  "metadata": {
    "colab": {
      "provenance": []
    },
    "kernelspec": {
      "display_name": "Python 3",
      "name": "python3"
    },
    "language_info": {
      "name": "python"
    }
  },
  "nbformat": 4,
  "nbformat_minor": 0
}
